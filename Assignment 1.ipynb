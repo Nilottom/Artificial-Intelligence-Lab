{
 "cells": [
  {
   "cell_type": "markdown",
   "metadata": {},
   "source": [
    "# Very Basic"
   ]
  },
  {
   "cell_type": "code",
   "execution_count": 1,
   "metadata": {},
   "outputs": [
    {
     "name": "stdout",
     "output_type": "stream",
     "text": [
      "Hello World!\n"
     ]
    }
   ],
   "source": [
    "print(\"Hello World!\")"
   ]
  },
  {
   "cell_type": "markdown",
   "metadata": {},
   "source": [
    "# Basic String Operations"
   ]
  },
  {
   "cell_type": "code",
   "execution_count": 4,
   "metadata": {},
   "outputs": [
    {
     "name": "stdout",
     "output_type": "stream",
     "text": [
      "Hello Universe\n",
      "HELLO UNIVERSE\n",
      "hello universe\n",
      "Hello Universe\n",
      "Hello Bangladesh\n"
     ]
    }
   ],
   "source": [
    "print(\"Hello Universe\")\n",
    "print(\"Hello Universe\".upper())\n",
    "print(\"Hello Universe\".lower())\n",
    "print(\"Hello\"+\" \"+\"Universe\")\n",
    "print(\"Hello Universe\".replace(\"Universe\",\"Bangladesh\"))"
   ]
  },
  {
   "cell_type": "markdown",
   "metadata": {},
   "source": [
    "# Basic Numerical Operations"
   ]
  },
  {
   "cell_type": "code",
   "execution_count": 17,
   "metadata": {},
   "outputs": [
    {
     "name": "stdout",
     "output_type": "stream",
     "text": [
      "110\n",
      "3.2800000000000002\n",
      "<class 'float'>\n",
      "<class 'int'>\n",
      "<class 'complex'>\n"
     ]
    }
   ],
   "source": [
    "x=50\n",
    "y=60\n",
    "z=x+y\n",
    "print(z)\n",
    "\n",
    "x=2.64\n",
    "y=0.64\n",
    "\n",
    "print(x+y)\n",
    "\n",
    "k=9.66\n",
    "p=100\n",
    "l=7j\n",
    "\n",
    "print(type(k))\n",
    "print(type(p))\n",
    "print(type(l))"
   ]
  },
  {
   "cell_type": "markdown",
   "metadata": {},
   "source": [
    "# If Else Condition"
   ]
  },
  {
   "cell_type": "code",
   "execution_count": 27,
   "metadata": {},
   "outputs": [
    {
     "name": "stdout",
     "output_type": "stream",
     "text": [
      "The numbers are same\n"
     ]
    }
   ],
   "source": [
    "x=5\n",
    "y=5\n",
    "if x == y:\n",
    "    print(\"The numbers are same\")\n",
    "else:\n",
    "    print(\"The numbers are not same\")"
   ]
  },
  {
   "cell_type": "markdown",
   "metadata": {},
   "source": [
    "# For Loop"
   ]
  },
  {
   "cell_type": "code",
   "execution_count": 1,
   "metadata": {},
   "outputs": [
    {
     "name": "stdout",
     "output_type": "stream",
     "text": [
      "402\n",
      "984\n",
      "360\n",
      "408\n",
      "980\n",
      "544\n",
      "390\n",
      "984\n",
      "592\n",
      "236\n",
      "942\n",
      "386\n",
      "462\n",
      "418\n",
      "344\n",
      "236\n",
      "566\n",
      "978\n",
      "328\n",
      "162\n",
      "758\n",
      "918\n"
     ]
    }
   ],
   "source": [
    "numbers = [\n",
    "    951, 402, 984, 651, 360, 69, 408, 319, 601, 485, 980, 507, 725, 547, 544,\n",
    "    615, 83, 165, 141, 501, 263, 617, 865, 575, 219, 390, 984, 592, 236, 105, 942, 941,\n",
    "    386, 462, 47, 418, 907, 344, 236, 375, 823, 566, 597, 978, 328, 615, 953, 345,\n",
    "    399, 162, 758, 219, 918, 237, 412, 566, 826, 248, 866, 950, 626, 949, 687, 217,\n",
    "    815, 67, 104, 58, 512, 24, 892, 894, 767, 553, 81, 379, 843, 831, 445, 742, 717,\n",
    "    958, 609, 842, 451, 688, 753, 854, 685, 93, 857, 440, 380, 126, 721, 328, 753, 470,\n",
    "    743, 527\n",
    "]\n",
    "\n",
    "for number in numbers:\n",
    "    if number == 237:\n",
    "        break\n",
    "\n",
    "    if number % 2 == 1:\n",
    "        continue\n",
    "\n",
    "    print(number)"
   ]
  },
  {
   "cell_type": "markdown",
   "metadata": {},
   "source": [
    "# If Else, While Loop & For Loop"
   ]
  },
  {
   "cell_type": "code",
   "execution_count": 3,
   "metadata": {},
   "outputs": [
    {
     "name": "stdout",
     "output_type": "stream",
     "text": [
      "0\n",
      "1\n",
      "2\n",
      "3\n",
      "4\n",
      "count value reached 5\n",
      "1\n",
      "2\n",
      "3\n",
      "4\n"
     ]
    }
   ],
   "source": [
    "count=0\n",
    "while(count<5):\n",
    "    print(count)\n",
    "    count +=1\n",
    "else:\n",
    "    print(\"count value reached %d\" %(count))\n",
    "\n",
    "for i in range(1, 10):\n",
    "    if(i%5==0):\n",
    "        break\n",
    "    print(i)\n",
    "else:\n",
    "    print(\"this is not printed\")"
   ]
  },
  {
   "cell_type": "markdown",
   "metadata": {},
   "source": [
    "# Data Types"
   ]
  },
  {
   "cell_type": "code",
   "execution_count": 4,
   "metadata": {},
   "outputs": [
    {
     "name": "stdout",
     "output_type": "stream",
     "text": [
      "Hello World!\n",
      "H\n",
      "llo\n",
      "llo World!\n",
      "Hello World!Hello World!\n",
      "Hello World!TEST\n",
      "['abcd', 786, 2.23, 'Nill', 70.2]\n",
      "abcd\n",
      "[786, 2.23]\n",
      "[2.23, 'Nill', 70.2]\n",
      "[123, 'Nill', 123, 'Nill']\n",
      "['abcd', 786, 2.23, 'Nill', 70.2, 123, 'Nill']\n",
      "('abcd', 786, 2.23, 'Nill', 70.2)\n",
      "abcd\n",
      "(786, 2.23)\n",
      "(2.23, 'Nill', 70.2)\n",
      "(123, 'Nill', 123, 'Nill')\n",
      "('abcd', 786, 2.23, 'Nill', 70.2, 123, 'Nill')\n"
     ]
    }
   ],
   "source": [
    "## Numbers\n",
    "\n",
    "var1 = 1\n",
    "var2 = 10\n",
    "\n",
    "## Strings\n",
    "\n",
    "str = 'Hello World!'\n",
    "\n",
    "print (str)          \n",
    "print (str[0])       \n",
    "print (str[2:5])     \n",
    "print (str[2:])      \n",
    "print (str * 2)      \n",
    "print (str + \"TEST\")\n",
    "\n",
    "## Lists\n",
    "\n",
    "list = [ 'abcd', 786 , 2.23, 'Nill', 70.2 ]\n",
    "tinylist = [123, 'Nill']\n",
    "\n",
    "print (list)          \n",
    "print (list[0])       \n",
    "print (list[1:3])      \n",
    "print (list[2:])      \n",
    "print (tinylist * 2)  \n",
    "print (list + tinylist)\n",
    "\n",
    "## Tuples\n",
    "\n",
    "tuple = ( 'abcd', 786 , 2.23, 'Nill', 70.2  )\n",
    "tinytuple = (123, 'Nill')\n",
    "\n",
    "print (tuple)           \n",
    "print (tuple[0])        \n",
    "print (tuple[1:3])      \n",
    "print (tuple[2:])       \n",
    "print (tinytuple * 2)   \n",
    "print (tuple + tinytuple) "
   ]
  },
  {
   "cell_type": "code",
   "execution_count": null,
   "metadata": {},
   "outputs": [],
   "source": []
  }
 ],
 "metadata": {
  "kernelspec": {
   "display_name": "Python 3",
   "language": "python",
   "name": "python3"
  },
  "language_info": {
   "codemirror_mode": {
    "name": "ipython",
    "version": 3
   },
   "file_extension": ".py",
   "mimetype": "text/x-python",
   "name": "python",
   "nbconvert_exporter": "python",
   "pygments_lexer": "ipython3",
   "version": "3.7.3"
  }
 },
 "nbformat": 4,
 "nbformat_minor": 2
}