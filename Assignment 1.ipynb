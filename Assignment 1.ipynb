{
 "cells": [
  {
   "cell_type": "markdown",
   "metadata": {},
   "source": [
    "# Very Basic"
   ]
  },
  {
   "cell_type": "code",
   "execution_count": 1,
   "metadata": {},
   "outputs": [
    {
     "name": "stdout",
     "output_type": "stream",
     "text": [
      "Hello World!\n"
     ]
    }
   ],
   "source": [
    "print(\"Hello World!\")"
   ]
  },
  {
   "cell_type": "markdown",
   "metadata": {},
   "source": [
    "# Basic String Operations"
   ]
  },
  {
   "cell_type": "code",
   "execution_count": 4,
   "metadata": {},
   "outputs": [
    {
     "name": "stdout",
     "output_type": "stream",
     "text": [
      "Hello Universe\n",
      "HELLO UNIVERSE\n",
      "hello universe\n",
      "Hello Universe\n",
      "Hello Bangladesh\n"
     ]
    }
   ],
   "source": [
    "print(\"Hello Universe\")\n",
    "print(\"Hello Universe\".upper())\n",
    "print(\"Hello Universe\".lower())\n",
    "print(\"Hello\"+\" \"+\"Universe\")\n",
    "print(\"Hello Universe\".replace(\"Universe\",\"Bangladesh\"))"
   ]
  },
  {
   "cell_type": "markdown",
   "metadata": {},
   "source": [
    "# Basic Numerical Operations"
   ]
  },
  {
   "cell_type": "code",
   "execution_count": 17,
   "metadata": {},
   "outputs": [
    {
     "name": "stdout",
     "output_type": "stream",
     "text": [
      "110\n",
      "3.2800000000000002\n",
      "<class 'float'>\n",
      "<class 'int'>\n",
      "<class 'complex'>\n"
     ]
    }
   ],
   "source": [
    "x=50\n",
    "y=60\n",
    "z=x+y\n",
    "print(z)\n",
    "\n",
    "x=2.64\n",
    "y=0.64\n",
    "\n",
    "print(x+y)\n",
    "\n",
    "k=9.66\n",
    "p=100\n",
    "l=7j\n",
    "\n",
    "print(type(k))\n",
    "print(type(p))\n",
    "print(type(l))"
   ]
  },
  {
   "cell_type": "markdown",
   "metadata": {},
   "source": [
    "# If Else Condition"
   ]
  },
  {
   "cell_type": "code",
   "execution_count": 27,
   "metadata": {},
   "outputs": [
    {
     "name": "stdout",
     "output_type": "stream",
     "text": [
      "The numbers are same\n"
     ]
    }
   ],
   "source": [
    "x=5\n",
    "y=5\n",
    "if x == y:\n",
    "    print(\"The numbers are same\")\n",
    "else:\n",
    "    print(\"The numbers are not same\")"
   ]
  },
  {
   "cell_type": "code",
   "execution_count": null,
   "metadata": {},
   "outputs": [],
   "source": []
  }
 ],
 "metadata": {
  "kernelspec": {
   "display_name": "Python 3",
   "language": "python",
   "name": "python3"
  },
  "language_info": {
   "codemirror_mode": {
    "name": "ipython",
    "version": 3
   },
   "file_extension": ".py",
   "mimetype": "text/x-python",
   "name": "python",
   "nbconvert_exporter": "python",
   "pygments_lexer": "ipython3",
   "version": "3.7.3"
  }
 },
 "nbformat": 4,
 "nbformat_minor": 2
}
